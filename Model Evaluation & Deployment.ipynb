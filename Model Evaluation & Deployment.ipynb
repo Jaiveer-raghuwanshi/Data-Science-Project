{
  "nbformat": 4,
  "nbformat_minor": 0,
  "metadata": {
    "colab": {
      "provenance": [],
      "toc_visible": true,
      "authorship_tag": "ABX9TyP5X6AiGIknS5ETEzKlk53Z",
      "include_colab_link": true
    },
    "kernelspec": {
      "name": "python3",
      "display_name": "Python 3"
    },
    "language_info": {
      "name": "python"
    }
  },
  "cells": [
    {
      "cell_type": "markdown",
      "metadata": {
        "id": "view-in-github",
        "colab_type": "text"
      },
      "source": [
        "<a href=\"https://colab.research.google.com/github/Jaiveer-raghuwanshi/Data-Science-Project/blob/main/Model%20Evaluation%20%26%20Deployment.ipynb\" target=\"_parent\"><img src=\"https://colab.research.google.com/assets/colab-badge.svg\" alt=\"Open In Colab\"/></a>"
      ]
    },
    {
      "cell_type": "markdown",
      "source": [
        "# TASK : 4 -- Model Evaluation & Deployment\n",
        "# Goal: Evaluate model performance and deploy it for real-world use."
      ],
      "metadata": {
        "id": "C0JDTMVZltJn"
      }
    },
    {
      "cell_type": "markdown",
      "source": [
        "STEP 0 — Install & imports (Colab)"
      ],
      "metadata": {
        "id": "1beIBTqUnwZG"
      }
    },
    {
      "cell_type": "code",
      "source": [
        "!pip install -q streamlit pyngrok scikit-learn pandas numpy matplotlib\n",
        "\n",
        "import numpy as np\n",
        "import pandas as pd\n",
        "import pickle\n",
        "import json\n",
        "from sklearn.datasets import load_iris\n",
        "from sklearn.model_selection import train_test_split\n",
        "from sklearn.pipeline import Pipeline\n",
        "from sklearn.preprocessing import StandardScaler\n",
        "from sklearn.metrics import (\n",
        "    accuracy_score, precision_score, recall_score, f1_score,\n",
        "    classification_report, confusion_matrix\n",
        ")\n",
        "from sklearn.ensemble import RandomForestClassifier\n",
        "import matplotlib.pyplot as plt\n"
      ],
      "metadata": {
        "id": "w273KZIon0Ke"
      },
      "execution_count": 69,
      "outputs": []
    },
    {
      "cell_type": "markdown",
      "source": [
        "STEP 1 — Load data, split, train a model"
      ],
      "metadata": {
        "id": "qnybKjKon96m"
      }
    },
    {
      "cell_type": "code",
      "source": [
        "# Load a simple classification dataset\n",
        "iris = load_iris(as_frame=True)\n",
        "X = iris.data\n",
        "y = iris.target\n",
        "feature_names = X.columns.tolist()\n",
        "target_names = iris.target_names.tolist()\n",
        "\n",
        "# Train/val split\n",
        "X_train, X_test, y_train, y_test = train_test_split(\n",
        "    X, y, test_size=0.2, random_state=42, stratify=y\n",
        ")\n",
        "\n",
        "# Pipeline: scale -> model\n",
        "clf = Pipeline(steps=[\n",
        "    ('scaler', StandardScaler()),\n",
        "    ('model', RandomForestClassifier(\n",
        "        n_estimators=200, random_state=42, class_weight=None\n",
        "    ))\n",
        "])\n",
        "\n",
        "# Train\n",
        "clf.fit(X_train, y_train)\n",
        "\n",
        "# Predictions on test\n",
        "y_pred = clf.predict(X_test)\n"
      ],
      "metadata": {
        "id": "a_PoMpwsn_w-"
      },
      "execution_count": 70,
      "outputs": []
    },
    {
      "cell_type": "markdown",
      "source": [
        "STEP 2 — Evaluate the model (Accuracy, Precision, Recall, F1)"
      ],
      "metadata": {
        "id": "3q7J48NXoAwn"
      }
    },
    {
      "cell_type": "code",
      "source": [
        "acc = accuracy_score(y_test, y_pred)\n",
        "prec = precision_score(y_test, y_pred, average='weighted', zero_division=0)\n",
        "rec  = recall_score(y_test, y_pred, average='weighted', zero_division=0)\n",
        "f1   = f1_score(y_test, y_pred, average='weighted', zero_division=0)\n",
        "\n",
        "print(\"Classification Metrics\")\n",
        "print(\"----------------------\")\n",
        "print(f\"Accuracy : {acc:.4f}\")\n",
        "print(f\"Precision: {prec:.4f}\")\n",
        "print(f\"Recall   : {rec:.4f}\")\n",
        "print(f\"F1-score : {f1:.4f}\\n\")\n",
        "\n",
        "print(\"Detailed Classification Report\")\n",
        "print(\"------------------------------\")\n",
        "print(classification_report(y_test, y_pred, target_names=target_names, zero_division=0))\n",
        "\n",
        "# Confusion Matrix plot (optional)\n",
        "cm = confusion_matrix(y_test, y_pred)\n",
        "fig = plt.figure(figsize=(4,3))\n",
        "plt.imshow(cm)\n",
        "plt.title(\"Confusion Matrix\")\n",
        "plt.xlabel(\"Predicted\")\n",
        "plt.ylabel(\"True\")\n",
        "plt.xticks(ticks=range(len(target_names)), labels=target_names, rotation=45)\n",
        "plt.yticks(ticks=range(len(target_names)), labels=target_names)\n",
        "for i in range(cm.shape[0]):\n",
        "    for j in range(cm.shape[1]):\n",
        "        plt.text(j, i, cm[i, j], ha='center', va='center')\n",
        "plt.tight_layout()\n",
        "plt.show()\n"
      ],
      "metadata": {
        "colab": {
          "base_uri": "https://localhost:8080/",
          "height": 637
        },
        "id": "IinHh337oDYg",
        "outputId": "74c535dd-e56a-4c46-e7f4-a0d501839a9f"
      },
      "execution_count": 71,
      "outputs": [
        {
          "output_type": "stream",
          "name": "stdout",
          "text": [
            "Classification Metrics\n",
            "----------------------\n",
            "Accuracy : 0.9000\n",
            "Precision: 0.9024\n",
            "Recall   : 0.9000\n",
            "F1-score : 0.8997\n",
            "\n",
            "Detailed Classification Report\n",
            "------------------------------\n",
            "              precision    recall  f1-score   support\n",
            "\n",
            "      setosa       1.00      1.00      1.00        10\n",
            "  versicolor       0.82      0.90      0.86        10\n",
            "   virginica       0.89      0.80      0.84        10\n",
            "\n",
            "    accuracy                           0.90        30\n",
            "   macro avg       0.90      0.90      0.90        30\n",
            "weighted avg       0.90      0.90      0.90        30\n",
            "\n"
          ]
        },
        {
          "output_type": "display_data",
          "data": {
            "text/plain": [
              "<Figure size 400x300 with 1 Axes>"
            ],
            "image/png": "[encoded data removed]"
          },
          "metadata": {}
        }
      ]
    },
    {
      "cell_type": "markdown",
      "source": [
        "STEP 3 — Save the trained model with pickle"
      ],
      "metadata": {
        "id": "fdZuGvVfoGKG"
      }
    },
    {
      "cell_type": "code",
      "source": [
        "# Compute simple per-feature stats for nicer Streamlit inputs\n",
        "feature_stats = {\n",
        "    col: {\n",
        "        \"min\": float(X_train[col].min()),\n",
        "        \"max\": float(X_train[col].max()),\n",
        "        \"mean\": float(X_train[col].mean())\n",
        "    }\n",
        "    for col in feature_names\n",
        "}\n",
        "\n",
        "artifact = {\n",
        "    \"model\": clf,\n",
        "    \"feature_names\": feature_names,\n",
        "    \"target_names\": target_names,\n",
        "    \"feature_stats\": feature_stats\n",
        "}\n",
        "\n",
        "with open(\"artifact.pkl\", \"wb\") as f:\n",
        "    pickle.dump(artifact, f)\n",
        "\n",
        "print(\"✅ Saved artifact.pkl (model + metadata)\")\n"
      ],
      "metadata": {
        "colab": {
          "base_uri": "https://localhost:8080/",
          "height": 0
        },
        "id": "5iNNpSBUoJAe",
        "outputId": "1ce0bd06-c7b8-44a9-82be-7797e8d52d58"
      },
      "execution_count": 72,
      "outputs": [
        {
          "output_type": "stream",
          "name": "stdout",
          "text": [
            "✅ Saved artifact.pkl (model + metadata)\n"
          ]
        }
      ]
    },
    {
      "cell_type": "markdown",
      "source": [
        "STEP 4 — Quick local prediction test (sanity check)"
      ],
      "metadata": {
        "id": "b12yBLG2oLGm"
      }
    },
    {
      "cell_type": "code",
      "source": [
        "with open(\"artifact.pkl\", \"rb\") as f:\n",
        "    art = pickle.load(f)\n",
        "\n",
        "pipe = art[\"model\"]\n",
        "feat = art[\"feature_names\"]\n",
        "\n",
        "# Build one example from the test set\n",
        "example = X_test.iloc[[0]].values\n",
        "pred = pipe.predict(example)[0]\n",
        "print(\"Test example features:\", dict(zip(feat, X_test.iloc[0].to_list())))\n",
        "print(\"Predicted class:\", target_names[pred])\n"
      ],
      "metadata": {
        "colab": {
          "base_uri": "https://localhost:8080/",
          "height": 0
        },
        "id": "GoZi9Pl7oN5f",
        "outputId": "8d9fcb41-8f29-4175-8774-bf748132f4d7"
      },
      "execution_count": 73,
      "outputs": [
        {
          "output_type": "stream",
          "name": "stdout",
          "text": [
            "Test example features: {'sepal length (cm)': 4.4, 'sepal width (cm)': 3.0, 'petal length (cm)': 1.3, 'petal width (cm)': 0.2}\n",
            "Predicted class: setosa\n"
          ]
        },
        {
          "output_type": "stream",
          "name": "stderr",
          "text": [
            "/usr/local/lib/python3.11/dist-packages/sklearn/utils/validation.py:2739: UserWarning: X does not have valid feature names, but StandardScaler was fitted with feature names\n",
            "  warnings.warn(\n"
          ]
        }
      ]
    },
    {
      "cell_type": "markdown",
      "source": [
        "STEP 5 — Create app.py (Streamlit UI)"
      ],
      "metadata": {
        "id": "GbpCMwOFoU6n"
      }
    },
    {
      "cell_type": "code",
      "source": [
        "%%writefile app.py\n",
        "import streamlit as st\n",
        "import pickle\n",
        "import numpy as np\n",
        "import pandas as pd\n",
        "\n",
        "st.set_page_config(page_title=\"Data-Driven Decision System\", page_icon=\"📊\")\n",
        "\n",
        "@st.cache_resource\n",
        "def load_artifact():\n",
        "    with open(\"artifact.pkl\", \"rb\") as f:\n",
        "        return pickle.load(f)\n",
        "\n",
        "artifact = load_artifact()\n",
        "model = artifact[\"model\"]\n",
        "feature_names = artifact[\"feature_names\"]\n",
        "target_names = artifact[\"target_names\"]\n",
        "feature_stats = artifact[\"feature_stats\"]\n",
        "\n",
        "st.title(\"📊 Data-Driven Decision Making System\")\n",
        "st.caption(\"Sklearn model deployed with Streamlit\")\n",
        "\n",
        "st.subheader(\"Single Prediction\")\n",
        "inputs = []\n",
        "cols = st.columns(min(4, len(feature_names)))\n",
        "for i, name in enumerate(feature_names):\n",
        "    stats = feature_stats.get(name, {})\n",
        "    minv = stats.get(\"min\", 0.0)\n",
        "    maxv = stats.get(\"max\", 10.0)\n",
        "    meanv = stats.get(\"mean\", (minv + maxv) / 2)\n",
        "    with cols[i % len(cols)]:\n",
        "        val = st.number_input(\n",
        "            label=f\"{name}\",\n",
        "            min_value=float(minv),\n",
        "            max_value=float(maxv) if maxv > minv else float(minv + 100),\n",
        "            value=float(meanv),\n",
        "            step=0.1,\n",
        "            format=\"%.4f\",\n",
        "            help=f\"Range approx: [{minv:.4f}, {maxv:.4f}]\"\n",
        "        )\n",
        "        inputs.append(val)\n",
        "\n",
        "if st.button(\"Predict\"):\n",
        "    X = np.array([inputs])\n",
        "    pred = model.predict(X)[0]\n",
        "    st.success(f\"Prediction: {target_names[pred] if target_names else pred}\")\n",
        "\n",
        "    # Probabilities if available\n",
        "    if hasattr(model, \"predict_proba\"):\n",
        "        probs = model.predict_proba(X)[0]\n",
        "        prob_df = pd.DataFrame({\n",
        "            \"class\": target_names if target_names else list(range(len(probs))),\n",
        "            \"probability\": probs\n",
        "        }).sort_values(\"probability\", ascending=False)\n",
        "        st.write(\"Class probabilities:\")\n",
        "        st.dataframe(prob_df, use_container_width=True)\n",
        "\n",
        "st.divider()\n",
        "st.subheader(\"Batch Prediction (CSV)\")\n",
        "st.caption(\"Upload a CSV with *exactly* these columns, in any order:\")\n",
        "st.code(\", \".join(feature_names))\n",
        "\n",
        "uploaded = st.file_uploader(\"Upload CSV\", type=[\"csv\"])\n",
        "if uploaded is not None:\n",
        "    try:\n",
        "        df = pd.read_csv(uploaded)\n",
        "        # Reorder / subset to required features\n",
        "        df_model = df[feature_names].copy()\n",
        "        preds = model.predict(df_model.values)\n",
        "        out = df.copy()\n",
        "        out[\"prediction\"] = [target_names[p] if target_names else p for p in preds]\n",
        "        st.write(\"Preview with predictions:\")\n",
        "        st.dataframe(out.head(), use_container_width=True)\n",
        "        # Download\n",
        "        csv = out.to_csv(index=False).encode(\"utf-8\")\n",
        "        st.download_button(\"Download predictions CSV\", csv, file_name=\"predictions.csv\")\n",
        "    except Exception as e:\n",
        "        st.error(f\"Error: {e}\")\n"
      ],
      "metadata": {
        "colab": {
          "base_uri": "https://localhost:8080/",
          "height": 0
        },
        "id": "oX04qz-FoVnJ",
        "outputId": "0c548ce9-cef6-44b0-c9dd-ae2dca29cc08"
      },
      "execution_count": 74,
      "outputs": [
        {
          "output_type": "stream",
          "name": "stdout",
          "text": [
            "Overwriting app.py\n"
          ]
        }
      ]
    },
    {
      "cell_type": "markdown",
      "source": [
        "STEP 6 — Run Streamlit in Colab with ngrok"
      ],
      "metadata": {
        "id": "oqDhTPv1oYfZ"
      }
    },
    {
      "cell_type": "code",
      "source": [
        "from pyngrok import ngrok\n",
        "\n",
        "# Replace with YOUR actual token\n",
        "ngrok.set_auth_token(\"31LjUfAPzHhsLqGHwNWCsXIaX27_5TStGPvWMRUGgZJQ2SzCc\")\n"
      ],
      "metadata": {
        "id": "LtyXPvvbtlCv"
      },
      "execution_count": 75,
      "outputs": []
    },
    {
      "cell_type": "code",
      "source": [
        "!streamlit run app.py &\n",
        "\n",
        "# Connect to Streamlit via ngrok\n",
        "public_url = ngrok.connect(8501)\n",
        "print(\"🚀 Open your Streamlit app here:\", public_url)\n"
      ],
      "metadata": {
        "colab": {
          "base_uri": "https://localhost:8080/",
          "height": 0
        },
        "id": "bDnJ6qFFtnSv",
        "outputId": "ebc330bb-1b5c-4265-c925-979c09fd9292"
      },
      "execution_count": 68,
      "outputs": [
        {
          "output_type": "stream",
          "name": "stdout",
          "text": [
            "\n",
            "Collecting usage statistics. To deactivate, set browser.gatherUsageStats to false.\n",
            "\u001b[0m\n",
            "\u001b[0m\n",
            "\u001b[34m\u001b[1m  You can now view your Streamlit app in your browser.\u001b[0m\n",
            "\u001b[0m\n",
            "\u001b[34m  Local URL: \u001b[0m\u001b[1mhttp://localhost:8501\u001b[0m\n",
            "\u001b[34m  Network URL: \u001b[0m\u001b[1mhttp://172.28.0.12:8501\u001b[0m\n",
            "\u001b[34m  External URL: \u001b[0m\u001b[1mhttp://34.16.129.180:8501\u001b[0m\n",
            "\u001b[0m\n",
            "\u001b[34m  Stopping...\u001b[0m\n",
            "🚀 Open your Streamlit app here: NgrokTunnel: \"https://237fc24d376f.ngrok-free.app\" -> \"http://localhost:8501\"\n"
          ]
        }
      ]
    },
    {
      "cell_type": "code",
      "source": [
        "# 1. Install dependencies\n",
        "!pip install streamlit pyngrok -q\n",
        "\n",
        "# 2. Import ngrok and set auth token (replace with your token)\n",
        "from pyngrok import ngrok\n",
        "ngrok.set_auth_token(\"YOUR_NGROK_AUTH_TOKEN\")\n",
        "\n",
        "# 3. Run Streamlit in background\n",
        "!nohup streamlit run app.py --server.port 8501 >/dev/null 2>&1 &\n",
        "\n",
        "# 4. Create ngrok tunnel to port 8501\n",
        "public_url = ngrok.connect(8501)\n",
        "print(\"🚀 Streamlit App URL:\", public_url)\n"
      ],
      "metadata": {
        "colab": {
          "base_uri": "https://localhost:8080/",
          "height": 0
        },
        "id": "6JcMNu6CvH9H",
        "outputId": "d1789f80-25be-40f2-c5ec-8376f2bd813b"
      },
      "execution_count": 78,
      "outputs": [
        {
          "output_type": "stream",
          "name": "stdout",
          "text": [
            "🚀 Streamlit App URL: NgrokTunnel: \"https://a06ef9ff49f5.ngrok-free.app\" -> \"http://localhost:8501\"\n"
          ]
        }
      ]
    }
  ]
}